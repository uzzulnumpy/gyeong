{
 "cells": [
  {
   "cell_type": "code",
   "execution_count": 29,
   "id": "995d87a0",
   "metadata": {},
   "outputs": [],
   "source": [
    "import pandas as pd\n",
    "import numpy as np"
   ]
  },
  {
   "cell_type": "code",
   "execution_count": 118,
   "id": "3bbb5d55",
   "metadata": {},
   "outputs": [],
   "source": [
    "a = pd.read_csv('D:\\my_jupyter\\파이썬으로_데이터_주무르기\\서울시CCTV설치운영현황(자치구)_년도별_210731기준.csv', header=1, encoding='euc-kr')"
   ]
  },
  {
   "cell_type": "code",
   "execution_count": 124,
   "id": "4ed87d6d",
   "metadata": {},
   "outputs": [
    {
     "data": {
      "text/plain": [
       "pandas.core.frame.DataFrame"
      ]
     },
     "execution_count": 124,
     "metadata": {},
     "output_type": "execute_result"
    }
   ],
   "source": [
    "a"
   ]
  },
  {
   "cell_type": "code",
   "execution_count": 13,
   "id": "ec8ae36c",
   "metadata": {},
   "outputs": [
    {
     "data": {
      "text/plain": [
       "pandas.core.frame.DataFrame"
      ]
     },
     "execution_count": 13,
     "metadata": {},
     "output_type": "execute_result"
    }
   ],
   "source": [
    "type(a)"
   ]
  },
  {
   "cell_type": "code",
   "execution_count": 137,
   "id": "1d88aee0",
   "metadata": {},
   "outputs": [],
   "source": [
    "b = pd.read_excel('D:\\my_jupyter\\파이썬으로_데이터_주무르기\\Report.xls',usecols = 'B, D, G, J, N', index_col=0, header=2)"
   ]
  },
  {
   "cell_type": "code",
   "execution_count": 138,
   "id": "5981f4a9",
   "metadata": {},
   "outputs": [],
   "source": [
    "b.columns = ['인구수', '한국인', '외국인', '고령자']"
   ]
  },
  {
   "cell_type": "code",
   "execution_count": 142,
   "id": "ef79656a",
   "metadata": {},
   "outputs": [
    {
     "data": {
      "text/plain": [
       "<bound method NDFrame.describe of           인구수      한국인     외국인      고령자\n",
       "자치구                                    \n",
       "합계    9736027  9509458  226569  1605416\n",
       "종로구    153789   144683    9106    27818\n",
       "중구     131787   122499    9288    24392\n",
       "용산구    237285   222953   14332    39070\n",
       "성동구    292672   285990    6682    46380\n",
       "광진구    352627   339996   12631    51723\n",
       "동대문구   352006   337400   14606    62211\n",
       "중랑구    391885   387350    4535    71682\n",
       "성북구    440142   430528    9614    74709\n",
       "강북구    302563   299182    3381    64333\n",
       "도봉구    319373   317366    2007    64160\n",
       "노원구    514946   510956    3990    88345\n",
       "은평구    477173   473307    3866    87241\n",
       "서대문구   315659   304819   10840    54268\n",
       "마포구    378686   368905    9781    54582\n",
       "양천구    450487   447302    3185    68627\n",
       "강서구    579768   574315    5453    92558\n",
       "구로구    421163   396754   24409    72611\n",
       "금천구    244891   230811   14080    41041\n",
       "영등포구   400908   376837   24071    62516\n",
       "동작구    394364   385483    8881    66613\n",
       "관악구    499449   485699   13750    79871\n",
       "서초구    416167   412279    3888    60678\n",
       "강남구    537800   533042    4758    78226\n",
       "송파구    663965   658338    5627    97691\n",
       "강동구    466472   462664    3808    74070>"
      ]
     },
     "execution_count": 142,
     "metadata": {},
     "output_type": "execute_result"
    }
   ],
   "source": [
    "b.describe"
   ]
  },
  {
   "cell_type": "code",
   "execution_count": 96,
   "id": "6598a8e2",
   "metadata": {},
   "outputs": [],
   "source": [
    "import matplotlib.pyplot as plt"
   ]
  },
  {
   "cell_type": "code",
   "execution_count": 97,
   "id": "63f557ce",
   "metadata": {},
   "outputs": [],
   "source": [
    "plt.rcParams['font.family'] = 'Malgun Gothic'"
   ]
  },
  {
   "cell_type": "code",
   "execution_count": 101,
   "id": "6d9f8dfb",
   "metadata": {},
   "outputs": [
    {
     "data": {
      "image/png": "[encoded data removed]",
      "text/plain": [
       "<Figure size 432x288 with 1 Axes>"
      ]
     },
     "metadata": {
      "needs_background": "light"
     },
     "output_type": "display_data"
    }
   ],
   "source": [
    "plt.figure\n",
    "x = [0,1,2,3,4]\n",
    "y = [10,20,30,40,50]\n",
    "plt.plot(x, y)\n",
    "plt.xlabel('안녕')\n",
    "plt.show()"
   ]
  },
  {
   "cell_type": "code",
   "execution_count": null,
   "id": "bfd367dd",
   "metadata": {},
   "outputs": [],
   "source": []
  }
 ],
 "metadata": {
  "kernelspec": {
   "display_name": "Python 3 (ipykernel)",
   "language": "python",
   "name": "python3"
  },
  "language_info": {
   "codemirror_mode": {
    "name": "ipython",
    "version": 3
   },
   "file_extension": ".py",
   "mimetype": "text/x-python",
   "name": "python",
   "nbconvert_exporter": "python",
   "pygments_lexer": "ipython3",
   "version": "3.8.8"
  }
 },
 "nbformat": 4,
 "nbformat_minor": 5
}
